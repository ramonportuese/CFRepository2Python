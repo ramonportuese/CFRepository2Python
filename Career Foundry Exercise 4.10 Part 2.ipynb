{
 "cells": [
  {
   "cell_type": "code",
   "execution_count": 1,
   "id": "8dad541e",
   "metadata": {},
   "outputs": [],
   "source": [
    "#Importing the necessary libraries\n",
    "\n",
    "import pandas as pd\n",
    "import numpy as np\n",
    "import os\n",
    "import matplotlib.pyplot as plt\n",
    "import seaborn as sns\n",
    "import scipy"
   ]
  },
  {
   "cell_type": "code",
   "execution_count": 2,
   "id": "04b128e0",
   "metadata": {},
   "outputs": [],
   "source": [
    "# importing the file path that represents the location on the computer where the Instacart Basket Analysis is stored\n",
    "path = r'C:\\Users\\rdpor\\anaconda3\\Scripts\\Instacart Basket Analysis'"
   ]
  },
  {
   "cell_type": "code",
   "execution_count": 3,
   "id": "4443b234",
   "metadata": {},
   "outputs": [],
   "source": [
    "# importing the merged_df pickle file from 4.9 part 1 this is the one that has the merged version of data \n",
    "# from the new customers column that was created in 4.9 part 1\n",
    "merged_df = pd.read_pickle(r'C:\\Users\\rdpor\\anaconda3\\Scripts\\Instacart Basket Analysis\\02 Data\\Prepared Data\\merged_df.pkl')\n"
   ]
  },
  {
   "cell_type": "code",
   "execution_count": null,
   "id": "2db0a3bf",
   "metadata": {},
   "outputs": [],
   "source": []
  },
  {
   "cell_type": "code",
   "execution_count": null,
   "id": "0335d85d",
   "metadata": {},
   "outputs": [],
   "source": []
  },
  {
   "cell_type": "code",
   "execution_count": 4,
   "id": "1b1004a2",
   "metadata": {
    "scrolled": true
   },
   "outputs": [
    {
     "data": {
      "text/html": [
       "<div>\n",
       "<style scoped>\n",
       "    .dataframe tbody tr th:only-of-type {\n",
       "        vertical-align: middle;\n",
       "    }\n",
       "\n",
       "    .dataframe tbody tr th {\n",
       "        vertical-align: top;\n",
       "    }\n",
       "\n",
       "    .dataframe thead th {\n",
       "        text-align: right;\n",
       "    }\n",
       "</style>\n",
       "<table border=\"1\" class=\"dataframe\">\n",
       "  <thead>\n",
       "    <tr style=\"text-align: right;\">\n",
       "      <th></th>\n",
       "      <th>order_id</th>\n",
       "      <th>user_id</th>\n",
       "      <th>order_number</th>\n",
       "      <th>orders_day_of_week</th>\n",
       "      <th>order_hour_of_day</th>\n",
       "      <th>days_since_prior_order</th>\n",
       "      <th>product_id</th>\n",
       "      <th>add_to_cart_order</th>\n",
       "      <th>reordered</th>\n",
       "      <th>product_name</th>\n",
       "      <th>...</th>\n",
       "      <th>order_frequency_flag</th>\n",
       "      <th>first name</th>\n",
       "      <th>surname</th>\n",
       "      <th>gender</th>\n",
       "      <th>state</th>\n",
       "      <th>age</th>\n",
       "      <th>date_joined</th>\n",
       "      <th>number_of_dependants</th>\n",
       "      <th>marital_status</th>\n",
       "      <th>income</th>\n",
       "    </tr>\n",
       "  </thead>\n",
       "  <tbody>\n",
       "    <tr>\n",
       "      <th>0</th>\n",
       "      <td>2539329</td>\n",
       "      <td>1</td>\n",
       "      <td>1</td>\n",
       "      <td>2</td>\n",
       "      <td>8</td>\n",
       "      <td>NaN</td>\n",
       "      <td>196</td>\n",
       "      <td>1</td>\n",
       "      <td>0</td>\n",
       "      <td>Soda</td>\n",
       "      <td>...</td>\n",
       "      <td>Non-frequent customer</td>\n",
       "      <td>Linda</td>\n",
       "      <td>Nguyen</td>\n",
       "      <td>Female</td>\n",
       "      <td>Alabama</td>\n",
       "      <td>31</td>\n",
       "      <td>2/17/2019</td>\n",
       "      <td>3</td>\n",
       "      <td>married</td>\n",
       "      <td>40423</td>\n",
       "    </tr>\n",
       "    <tr>\n",
       "      <th>1</th>\n",
       "      <td>2398795</td>\n",
       "      <td>1</td>\n",
       "      <td>2</td>\n",
       "      <td>3</td>\n",
       "      <td>7</td>\n",
       "      <td>15.0</td>\n",
       "      <td>196</td>\n",
       "      <td>1</td>\n",
       "      <td>1</td>\n",
       "      <td>Soda</td>\n",
       "      <td>...</td>\n",
       "      <td>Non-frequent customer</td>\n",
       "      <td>Linda</td>\n",
       "      <td>Nguyen</td>\n",
       "      <td>Female</td>\n",
       "      <td>Alabama</td>\n",
       "      <td>31</td>\n",
       "      <td>2/17/2019</td>\n",
       "      <td>3</td>\n",
       "      <td>married</td>\n",
       "      <td>40423</td>\n",
       "    </tr>\n",
       "    <tr>\n",
       "      <th>2</th>\n",
       "      <td>473747</td>\n",
       "      <td>1</td>\n",
       "      <td>3</td>\n",
       "      <td>3</td>\n",
       "      <td>12</td>\n",
       "      <td>21.0</td>\n",
       "      <td>196</td>\n",
       "      <td>1</td>\n",
       "      <td>1</td>\n",
       "      <td>Soda</td>\n",
       "      <td>...</td>\n",
       "      <td>Non-frequent customer</td>\n",
       "      <td>Linda</td>\n",
       "      <td>Nguyen</td>\n",
       "      <td>Female</td>\n",
       "      <td>Alabama</td>\n",
       "      <td>31</td>\n",
       "      <td>2/17/2019</td>\n",
       "      <td>3</td>\n",
       "      <td>married</td>\n",
       "      <td>40423</td>\n",
       "    </tr>\n",
       "    <tr>\n",
       "      <th>3</th>\n",
       "      <td>2254736</td>\n",
       "      <td>1</td>\n",
       "      <td>4</td>\n",
       "      <td>4</td>\n",
       "      <td>7</td>\n",
       "      <td>29.0</td>\n",
       "      <td>196</td>\n",
       "      <td>1</td>\n",
       "      <td>1</td>\n",
       "      <td>Soda</td>\n",
       "      <td>...</td>\n",
       "      <td>Non-frequent customer</td>\n",
       "      <td>Linda</td>\n",
       "      <td>Nguyen</td>\n",
       "      <td>Female</td>\n",
       "      <td>Alabama</td>\n",
       "      <td>31</td>\n",
       "      <td>2/17/2019</td>\n",
       "      <td>3</td>\n",
       "      <td>married</td>\n",
       "      <td>40423</td>\n",
       "    </tr>\n",
       "    <tr>\n",
       "      <th>4</th>\n",
       "      <td>431534</td>\n",
       "      <td>1</td>\n",
       "      <td>5</td>\n",
       "      <td>4</td>\n",
       "      <td>15</td>\n",
       "      <td>28.0</td>\n",
       "      <td>196</td>\n",
       "      <td>1</td>\n",
       "      <td>1</td>\n",
       "      <td>Soda</td>\n",
       "      <td>...</td>\n",
       "      <td>Non-frequent customer</td>\n",
       "      <td>Linda</td>\n",
       "      <td>Nguyen</td>\n",
       "      <td>Female</td>\n",
       "      <td>Alabama</td>\n",
       "      <td>31</td>\n",
       "      <td>2/17/2019</td>\n",
       "      <td>3</td>\n",
       "      <td>married</td>\n",
       "      <td>40423</td>\n",
       "    </tr>\n",
       "  </tbody>\n",
       "</table>\n",
       "<p>5 rows × 31 columns</p>\n",
       "</div>"
      ],
      "text/plain": [
       "   order_id  user_id  order_number  orders_day_of_week  order_hour_of_day  \\\n",
       "0   2539329        1             1                   2                  8   \n",
       "1   2398795        1             2                   3                  7   \n",
       "2    473747        1             3                   3                 12   \n",
       "3   2254736        1             4                   4                  7   \n",
       "4    431534        1             5                   4                 15   \n",
       "\n",
       "   days_since_prior_order  product_id  add_to_cart_order  reordered  \\\n",
       "0                     NaN         196                  1          0   \n",
       "1                    15.0         196                  1          1   \n",
       "2                    21.0         196                  1          1   \n",
       "3                    29.0         196                  1          1   \n",
       "4                    28.0         196                  1          1   \n",
       "\n",
       "  product_name  ...   order_frequency_flag  first name  surname  gender  \\\n",
       "0         Soda  ...  Non-frequent customer       Linda   Nguyen  Female   \n",
       "1         Soda  ...  Non-frequent customer       Linda   Nguyen  Female   \n",
       "2         Soda  ...  Non-frequent customer       Linda   Nguyen  Female   \n",
       "3         Soda  ...  Non-frequent customer       Linda   Nguyen  Female   \n",
       "4         Soda  ...  Non-frequent customer       Linda   Nguyen  Female   \n",
       "\n",
       "     state age  date_joined number_of_dependants  marital_status income  \n",
       "0  Alabama  31    2/17/2019                    3         married  40423  \n",
       "1  Alabama  31    2/17/2019                    3         married  40423  \n",
       "2  Alabama  31    2/17/2019                    3         married  40423  \n",
       "3  Alabama  31    2/17/2019                    3         married  40423  \n",
       "4  Alabama  31    2/17/2019                    3         married  40423  \n",
       "\n",
       "[5 rows x 31 columns]"
      ]
     },
     "execution_count": 4,
     "metadata": {},
     "output_type": "execute_result"
    }
   ],
   "source": [
    "merged_df.head()"
   ]
  },
  {
   "cell_type": "code",
   "execution_count": 5,
   "id": "c31fc49b",
   "metadata": {},
   "outputs": [
    {
     "data": {
      "text/html": [
       "<div>\n",
       "<style scoped>\n",
       "    .dataframe tbody tr th:only-of-type {\n",
       "        vertical-align: middle;\n",
       "    }\n",
       "\n",
       "    .dataframe tbody tr th {\n",
       "        vertical-align: top;\n",
       "    }\n",
       "\n",
       "    .dataframe thead th {\n",
       "        text-align: right;\n",
       "    }\n",
       "</style>\n",
       "<table border=\"1\" class=\"dataframe\">\n",
       "  <thead>\n",
       "    <tr style=\"text-align: right;\">\n",
       "      <th></th>\n",
       "      <th>order_id</th>\n",
       "      <th>user_id</th>\n",
       "      <th>order_number</th>\n",
       "      <th>orders_day_of_week</th>\n",
       "      <th>order_hour_of_day</th>\n",
       "      <th>days_since_prior_order</th>\n",
       "      <th>product_id</th>\n",
       "      <th>add_to_cart_order</th>\n",
       "      <th>reordered</th>\n",
       "      <th>aisle_id</th>\n",
       "      <th>department_id</th>\n",
       "      <th>prices</th>\n",
       "      <th>max_order</th>\n",
       "      <th>average_price</th>\n",
       "      <th>median_orders</th>\n",
       "      <th>age</th>\n",
       "      <th>number_of_dependants</th>\n",
       "      <th>income</th>\n",
       "    </tr>\n",
       "  </thead>\n",
       "  <tbody>\n",
       "    <tr>\n",
       "      <th>count</th>\n",
       "      <td>3.243421e+07</td>\n",
       "      <td>3.243421e+07</td>\n",
       "      <td>3.243421e+07</td>\n",
       "      <td>3.243421e+07</td>\n",
       "      <td>3.243421e+07</td>\n",
       "      <td>3.035613e+07</td>\n",
       "      <td>3.243421e+07</td>\n",
       "      <td>3.243421e+07</td>\n",
       "      <td>3.243421e+07</td>\n",
       "      <td>3.243421e+07</td>\n",
       "      <td>3.243421e+07</td>\n",
       "      <td>3.243421e+07</td>\n",
       "      <td>3.243421e+07</td>\n",
       "      <td>3.243421e+07</td>\n",
       "      <td>3.243421e+07</td>\n",
       "      <td>3.243421e+07</td>\n",
       "      <td>3.243421e+07</td>\n",
       "      <td>3.243421e+07</td>\n",
       "    </tr>\n",
       "    <tr>\n",
       "      <th>mean</th>\n",
       "      <td>1.710748e+06</td>\n",
       "      <td>1.029374e+05</td>\n",
       "      <td>1.714192e+01</td>\n",
       "      <td>2.738810e+00</td>\n",
       "      <td>1.342500e+01</td>\n",
       "      <td>1.110416e+01</td>\n",
       "      <td>2.557778e+04</td>\n",
       "      <td>8.351176e+00</td>\n",
       "      <td>5.896888e-01</td>\n",
       "      <td>7.121649e+01</td>\n",
       "      <td>9.922231e+00</td>\n",
       "      <td>1.198114e+01</td>\n",
       "      <td>3.305217e+01</td>\n",
       "      <td>1.198114e+01</td>\n",
       "      <td>1.039794e+01</td>\n",
       "      <td>4.946521e+01</td>\n",
       "      <td>1.501872e+00</td>\n",
       "      <td>9.943525e+04</td>\n",
       "    </tr>\n",
       "    <tr>\n",
       "      <th>std</th>\n",
       "      <td>9.872996e+05</td>\n",
       "      <td>5.946649e+04</td>\n",
       "      <td>1.753489e+01</td>\n",
       "      <td>2.090047e+00</td>\n",
       "      <td>4.246351e+00</td>\n",
       "      <td>8.778943e+00</td>\n",
       "      <td>1.409614e+04</td>\n",
       "      <td>7.126688e+00</td>\n",
       "      <td>4.918902e-01</td>\n",
       "      <td>3.820429e+01</td>\n",
       "      <td>6.281190e+00</td>\n",
       "      <td>4.954311e+02</td>\n",
       "      <td>2.515449e+01</td>\n",
       "      <td>8.319087e+01</td>\n",
       "      <td>7.131230e+00</td>\n",
       "      <td>1.848553e+01</td>\n",
       "      <td>1.118871e+00</td>\n",
       "      <td>4.305473e+04</td>\n",
       "    </tr>\n",
       "    <tr>\n",
       "      <th>min</th>\n",
       "      <td>2.000000e+00</td>\n",
       "      <td>1.000000e+00</td>\n",
       "      <td>1.000000e+00</td>\n",
       "      <td>0.000000e+00</td>\n",
       "      <td>0.000000e+00</td>\n",
       "      <td>0.000000e+00</td>\n",
       "      <td>1.000000e+00</td>\n",
       "      <td>1.000000e+00</td>\n",
       "      <td>0.000000e+00</td>\n",
       "      <td>1.000000e+00</td>\n",
       "      <td>1.000000e+00</td>\n",
       "      <td>1.000000e+00</td>\n",
       "      <td>3.000000e+00</td>\n",
       "      <td>1.000000e+00</td>\n",
       "      <td>0.000000e+00</td>\n",
       "      <td>1.800000e+01</td>\n",
       "      <td>0.000000e+00</td>\n",
       "      <td>2.590300e+04</td>\n",
       "    </tr>\n",
       "    <tr>\n",
       "      <th>25%</th>\n",
       "      <td>8.559450e+05</td>\n",
       "      <td>5.142000e+04</td>\n",
       "      <td>5.000000e+00</td>\n",
       "      <td>1.000000e+00</td>\n",
       "      <td>1.000000e+01</td>\n",
       "      <td>5.000000e+00</td>\n",
       "      <td>1.353500e+04</td>\n",
       "      <td>3.000000e+00</td>\n",
       "      <td>0.000000e+00</td>\n",
       "      <td>3.100000e+01</td>\n",
       "      <td>4.000000e+00</td>\n",
       "      <td>4.200000e+00</td>\n",
       "      <td>1.300000e+01</td>\n",
       "      <td>7.391954e+00</td>\n",
       "      <td>6.000000e+00</td>\n",
       "      <td>3.300000e+01</td>\n",
       "      <td>1.000000e+00</td>\n",
       "      <td>6.699800e+04</td>\n",
       "    </tr>\n",
       "    <tr>\n",
       "      <th>50%</th>\n",
       "      <td>1.711049e+06</td>\n",
       "      <td>1.026125e+05</td>\n",
       "      <td>1.100000e+01</td>\n",
       "      <td>3.000000e+00</td>\n",
       "      <td>1.300000e+01</td>\n",
       "      <td>8.000000e+00</td>\n",
       "      <td>2.525600e+04</td>\n",
       "      <td>6.000000e+00</td>\n",
       "      <td>1.000000e+00</td>\n",
       "      <td>8.300000e+01</td>\n",
       "      <td>9.000000e+00</td>\n",
       "      <td>7.400000e+00</td>\n",
       "      <td>2.600000e+01</td>\n",
       "      <td>7.829438e+00</td>\n",
       "      <td>8.000000e+00</td>\n",
       "      <td>4.900000e+01</td>\n",
       "      <td>2.000000e+00</td>\n",
       "      <td>9.661200e+04</td>\n",
       "    </tr>\n",
       "    <tr>\n",
       "      <th>75%</th>\n",
       "      <td>2.565510e+06</td>\n",
       "      <td>1.543910e+05</td>\n",
       "      <td>2.400000e+01</td>\n",
       "      <td>5.000000e+00</td>\n",
       "      <td>1.600000e+01</td>\n",
       "      <td>1.500000e+01</td>\n",
       "      <td>3.793500e+04</td>\n",
       "      <td>1.100000e+01</td>\n",
       "      <td>1.000000e+00</td>\n",
       "      <td>1.070000e+02</td>\n",
       "      <td>1.600000e+01</td>\n",
       "      <td>1.130000e+01</td>\n",
       "      <td>4.700000e+01</td>\n",
       "      <td>8.258696e+00</td>\n",
       "      <td>1.300000e+01</td>\n",
       "      <td>6.500000e+01</td>\n",
       "      <td>3.000000e+00</td>\n",
       "      <td>1.279080e+05</td>\n",
       "    </tr>\n",
       "    <tr>\n",
       "      <th>max</th>\n",
       "      <td>3.421083e+06</td>\n",
       "      <td>2.062090e+05</td>\n",
       "      <td>9.900000e+01</td>\n",
       "      <td>6.000000e+00</td>\n",
       "      <td>2.300000e+01</td>\n",
       "      <td>3.000000e+01</td>\n",
       "      <td>4.968800e+04</td>\n",
       "      <td>1.450000e+02</td>\n",
       "      <td>1.000000e+00</td>\n",
       "      <td>1.340000e+02</td>\n",
       "      <td>2.100000e+01</td>\n",
       "      <td>9.999900e+04</td>\n",
       "      <td>9.900000e+01</td>\n",
       "      <td>2.500542e+04</td>\n",
       "      <td>3.000000e+01</td>\n",
       "      <td>8.100000e+01</td>\n",
       "      <td>3.000000e+00</td>\n",
       "      <td>5.939010e+05</td>\n",
       "    </tr>\n",
       "  </tbody>\n",
       "</table>\n",
       "</div>"
      ],
      "text/plain": [
       "           order_id       user_id  order_number  orders_day_of_week  \\\n",
       "count  3.243421e+07  3.243421e+07  3.243421e+07        3.243421e+07   \n",
       "mean   1.710748e+06  1.029374e+05  1.714192e+01        2.738810e+00   \n",
       "std    9.872996e+05  5.946649e+04  1.753489e+01        2.090047e+00   \n",
       "min    2.000000e+00  1.000000e+00  1.000000e+00        0.000000e+00   \n",
       "25%    8.559450e+05  5.142000e+04  5.000000e+00        1.000000e+00   \n",
       "50%    1.711049e+06  1.026125e+05  1.100000e+01        3.000000e+00   \n",
       "75%    2.565510e+06  1.543910e+05  2.400000e+01        5.000000e+00   \n",
       "max    3.421083e+06  2.062090e+05  9.900000e+01        6.000000e+00   \n",
       "\n",
       "       order_hour_of_day  days_since_prior_order    product_id  \\\n",
       "count       3.243421e+07            3.035613e+07  3.243421e+07   \n",
       "mean        1.342500e+01            1.110416e+01  2.557778e+04   \n",
       "std         4.246351e+00            8.778943e+00  1.409614e+04   \n",
       "min         0.000000e+00            0.000000e+00  1.000000e+00   \n",
       "25%         1.000000e+01            5.000000e+00  1.353500e+04   \n",
       "50%         1.300000e+01            8.000000e+00  2.525600e+04   \n",
       "75%         1.600000e+01            1.500000e+01  3.793500e+04   \n",
       "max         2.300000e+01            3.000000e+01  4.968800e+04   \n",
       "\n",
       "       add_to_cart_order     reordered      aisle_id  department_id  \\\n",
       "count       3.243421e+07  3.243421e+07  3.243421e+07   3.243421e+07   \n",
       "mean        8.351176e+00  5.896888e-01  7.121649e+01   9.922231e+00   \n",
       "std         7.126688e+00  4.918902e-01  3.820429e+01   6.281190e+00   \n",
       "min         1.000000e+00  0.000000e+00  1.000000e+00   1.000000e+00   \n",
       "25%         3.000000e+00  0.000000e+00  3.100000e+01   4.000000e+00   \n",
       "50%         6.000000e+00  1.000000e+00  8.300000e+01   9.000000e+00   \n",
       "75%         1.100000e+01  1.000000e+00  1.070000e+02   1.600000e+01   \n",
       "max         1.450000e+02  1.000000e+00  1.340000e+02   2.100000e+01   \n",
       "\n",
       "             prices     max_order  average_price  median_orders           age  \\\n",
       "count  3.243421e+07  3.243421e+07   3.243421e+07   3.243421e+07  3.243421e+07   \n",
       "mean   1.198114e+01  3.305217e+01   1.198114e+01   1.039794e+01  4.946521e+01   \n",
       "std    4.954311e+02  2.515449e+01   8.319087e+01   7.131230e+00  1.848553e+01   \n",
       "min    1.000000e+00  3.000000e+00   1.000000e+00   0.000000e+00  1.800000e+01   \n",
       "25%    4.200000e+00  1.300000e+01   7.391954e+00   6.000000e+00  3.300000e+01   \n",
       "50%    7.400000e+00  2.600000e+01   7.829438e+00   8.000000e+00  4.900000e+01   \n",
       "75%    1.130000e+01  4.700000e+01   8.258696e+00   1.300000e+01  6.500000e+01   \n",
       "max    9.999900e+04  9.900000e+01   2.500542e+04   3.000000e+01  8.100000e+01   \n",
       "\n",
       "       number_of_dependants        income  \n",
       "count          3.243421e+07  3.243421e+07  \n",
       "mean           1.501872e+00  9.943525e+04  \n",
       "std            1.118871e+00  4.305473e+04  \n",
       "min            0.000000e+00  2.590300e+04  \n",
       "25%            1.000000e+00  6.699800e+04  \n",
       "50%            2.000000e+00  9.661200e+04  \n",
       "75%            3.000000e+00  1.279080e+05  \n",
       "max            3.000000e+00  5.939010e+05  "
      ]
     },
     "execution_count": 5,
     "metadata": {},
     "output_type": "execute_result"
    }
   ],
   "source": [
    "merged_df.describe()"
   ]
  },
  {
   "cell_type": "code",
   "execution_count": 6,
   "id": "126a208f",
   "metadata": {},
   "outputs": [
    {
     "data": {
      "text/plain": [
       "18"
      ]
     },
     "execution_count": 6,
     "metadata": {},
     "output_type": "execute_result"
    }
   ],
   "source": [
    "# finding the minimumn value in the age column\n",
    "merged_df['age'].min()"
   ]
  },
  {
   "cell_type": "code",
   "execution_count": 7,
   "id": "911c75eb",
   "metadata": {},
   "outputs": [
    {
     "data": {
      "text/plain": [
       "81"
      ]
     },
     "execution_count": 7,
     "metadata": {},
     "output_type": "execute_result"
    }
   ],
   "source": [
    "# finding the maximum value in the age column\n",
    "merged_df['age'].max()"
   ]
  },
  {
   "cell_type": "code",
   "execution_count": 8,
   "id": "16fa7c74",
   "metadata": {},
   "outputs": [
    {
     "data": {
      "text/plain": [
       "49.465207016591"
      ]
     },
     "execution_count": 8,
     "metadata": {},
     "output_type": "execute_result"
    }
   ],
   "source": [
    "# finding the mean/ average value in the age column\n",
    "merged_df['age'].mean()"
   ]
  },
  {
   "cell_type": "code",
   "execution_count": null,
   "id": "60d4aefb",
   "metadata": {},
   "outputs": [],
   "source": []
  },
  {
   "cell_type": "code",
   "execution_count": null,
   "id": "9a5252a1",
   "metadata": {},
   "outputs": [],
   "source": []
  },
  {
   "cell_type": "code",
   "execution_count": null,
   "id": "cad6f687",
   "metadata": {},
   "outputs": [],
   "source": []
  },
  {
   "cell_type": "markdown",
   "id": "bfc79411",
   "metadata": {},
   "source": [
    " 5. The marketing and business strategy units at Instacart want \n",
    "to create more-relevant marketing strategies for different \n",
    "products and are, thus, curious about customer profiling in\n",
    "their database. Create a profiling variable based on age,\n",
    "income, certain goods in the “department_id” column, and \n",
    "number of dependents. You might also use the \n",
    "“orders_day_of_the_week” and “order_hour_of_day” columns\n",
    "if you can think of a way they would impact customer profiles.\n",
    "(Hint: As an example, try thinking of what characteristics would\n",
    " lead you to the profile “Single adult” or “Young parent.”)"
   ]
  },
  {
   "cell_type": "code",
   "execution_count": null,
   "id": "6167380f",
   "metadata": {},
   "outputs": [],
   "source": []
  },
  {
   "cell_type": "code",
   "execution_count": null,
   "id": "36bb3951",
   "metadata": {},
   "outputs": [],
   "source": []
  },
  {
   "cell_type": "code",
   "execution_count": 9,
   "id": "db4fb5ae",
   "metadata": {},
   "outputs": [],
   "source": [
    "# This code \n",
    "# defines the boundaries that will be used\n",
    "# to group or categorize individuals based on \n",
    "# their ages. The numbers represent the lower\n",
    "# limits for each age group. For instance,\n",
    "# individuals whose ages fall within the range \n",
    "# of 18 to 36 will be in one group, \n",
    "# those between 36 and 56 will be in another group,\n",
    "# and those between 56 and 82 will be in the third group.\n",
    "\n",
    "age_bins = [18, 36, 56,82] # Bins: 18-35, 36-55, 56-81\n"
   ]
  },
  {
   "cell_type": "code",
   "execution_count": 11,
   "id": "a0721583",
   "metadata": {},
   "outputs": [],
   "source": [
    "# In simpler terms, the age_labels list assigns descriptive labels to different age groups. In this specific case:\n",
    "\n",
    "# 'Young Adults' refers to the age group of individuals between 18 and 36.\n",
    "# 'Middle age Adults' refers to the age group of individuals between 36 and 56.\n",
    "# 'Senior Adults' refers to the age group of individuals between 56 and 82.\n",
    "# These labels help provide clear and easy-to-understand descriptions for\n",
    "# the different age groups that have been defined using the age_bins. When \n",
    "# the ages are categorized into these groups, the corresponding labels can\n",
    "# be assigned to make the data more understandable and user-friendly.\n",
    "\n",
    "\n",
    "\n",
    "age_labels = ['Young Adults', 'Middle age Adults', 'Senior Adults']\n",
    "\n"
   ]
  },
  {
   "cell_type": "code",
   "execution_count": 12,
   "id": "490587de",
   "metadata": {},
   "outputs": [],
   "source": [
    "# Answer to # 5. \n",
    "\n",
    "# This is creating a new column,\n",
    "# 'age_group', in the DataFrame 'merged_df'. It categorizes the\n",
    "# ages of individuals into different groups or bins based on\n",
    "# predefined intervals and assigns corresponding labels to \n",
    "# these groups. This can help in analyzing and understanding\n",
    "# data based on different age ranges or groups.\n",
    "\n",
    "merged_df['age_group'] = pd.cut(merged_df['age'], bins=age_bins, labels=age_labels, right=False)"
   ]
  },
  {
   "cell_type": "code",
   "execution_count": null,
   "id": "230f4342",
   "metadata": {},
   "outputs": [],
   "source": []
  },
  {
   "cell_type": "code",
   "execution_count": 13,
   "id": "da524cd8",
   "metadata": {},
   "outputs": [
    {
     "data": {
      "text/plain": [
       "Senior Adults        13104038\n",
       "Middle age Adults    10175428\n",
       "Young Adults          9154746\n",
       "Name: age_group, dtype: int64"
      ]
     },
     "execution_count": 13,
     "metadata": {},
     "output_type": "execute_result"
    }
   ],
   "source": [
    "#checking the value counts for 'age_group'\n",
    "\n",
    "merged_df['age_group'].value_counts(dropna=False)"
   ]
  },
  {
   "cell_type": "code",
   "execution_count": 14,
   "id": "76f3afcd",
   "metadata": {},
   "outputs": [
    {
     "data": {
      "text/plain": [
       "count    3.243421e+07\n",
       "mean     9.943525e+04\n",
       "std      4.305473e+04\n",
       "min      2.590300e+04\n",
       "25%      6.699800e+04\n",
       "50%      9.661200e+04\n",
       "75%      1.279080e+05\n",
       "max      5.939010e+05\n",
       "Name: income, dtype: float64"
      ]
     },
     "execution_count": 14,
     "metadata": {},
     "output_type": "execute_result"
    }
   ],
   "source": [
    "merged_df['income'].describe()"
   ]
  },
  {
   "cell_type": "code",
   "execution_count": null,
   "id": "61055630",
   "metadata": {},
   "outputs": [],
   "source": []
  },
  {
   "cell_type": "code",
   "execution_count": 15,
   "id": "160b5da0",
   "metadata": {},
   "outputs": [],
   "source": [
    "# This is creating more BINS \n",
    "# In simpler terms, the income_bins list defines \n",
    "# the boundaries that will be used to group or \n",
    "# categorize individuals based on their income levels.\n",
    "# The numbers represent the lower limits for each income group. \n",
    "# For example, individuals with incomes within the range of\n",
    "# $25,903 to $67,066 will be in one group, those between \n",
    "# $67,066 and $127,934 will be in another group, and those\n",
    "# between $127,934 and $593,901 will be in the third group.\n",
    "\n",
    "income_bins = [25903, 67066, 127934, 593901] \n",
    "\n"
   ]
  },
  {
   "cell_type": "code",
   "execution_count": 16,
   "id": "e5d98578",
   "metadata": {},
   "outputs": [],
   "source": [
    "# creating more BINS\n",
    "# These labels help provide clear and easy-to-understand\n",
    "# descriptions for the different income groups that have \n",
    "# been defined using the income_bins. When the income levels\n",
    "# are categorized into these groups, the corresponding labels\n",
    "# can be assigned to make the data more understandable and user-friendly.\n",
    "\n",
    "income_labels = ['Low Income', 'Middle Income', 'High Income']"
   ]
  },
  {
   "cell_type": "code",
   "execution_count": 17,
   "id": "2a484de6",
   "metadata": {},
   "outputs": [],
   "source": [
    "# This line of code is creating a new column,\n",
    "# 'income_group', in the DataFrame 'merged_df'. It categorizes\n",
    "# individuals based on their income levels into different income\n",
    "# groups, as defined by the income_bins and income_labels. \n",
    "# This can help in analyzing and understanding data based\n",
    "# on different income ranges or groups.\n",
    "\n",
    "merged_df['income_group'] = pd.cut(merged_df['income'], bins=income_bins, labels=income_labels, right=False)"
   ]
  },
  {
   "cell_type": "code",
   "execution_count": 18,
   "id": "d950ca25",
   "metadata": {},
   "outputs": [
    {
     "data": {
      "text/plain": [
       "Middle Income    16206409\n",
       "Low Income        8125783\n",
       "High Income       8101380\n",
       "NaN                   640\n",
       "Name: income_group, dtype: int64"
      ]
     },
     "execution_count": 18,
     "metadata": {},
     "output_type": "execute_result"
    }
   ],
   "source": [
    "merged_df['income_group'].value_counts(dropna=False)"
   ]
  },
  {
   "cell_type": "code",
   "execution_count": 19,
   "id": "2761360c",
   "metadata": {
    "scrolled": false
   },
   "outputs": [
    {
     "data": {
      "text/plain": [
       "count    3.243421e+07\n",
       "mean     9.922231e+00\n",
       "std      6.281190e+00\n",
       "min      1.000000e+00\n",
       "25%      4.000000e+00\n",
       "50%      9.000000e+00\n",
       "75%      1.600000e+01\n",
       "max      2.100000e+01\n",
       "Name: department_id, dtype: float64"
      ]
     },
     "execution_count": 19,
     "metadata": {},
     "output_type": "execute_result"
    }
   ],
   "source": [
    "merged_df['department_id'].describe()"
   ]
  },
  {
   "cell_type": "code",
   "execution_count": 21,
   "id": "213e1851",
   "metadata": {},
   "outputs": [
    {
     "data": {
      "text/plain": [
       "Male      16329623\n",
       "Female    16104589\n",
       "Name: gender, dtype: int64"
      ]
     },
     "execution_count": 21,
     "metadata": {},
     "output_type": "execute_result"
    }
   ],
   "source": [
    "merged_df['gender'].value_counts(dropna=False)"
   ]
  },
  {
   "cell_type": "code",
   "execution_count": null,
   "id": "8afd5912",
   "metadata": {},
   "outputs": [],
   "source": []
  },
  {
   "cell_type": "code",
   "execution_count": 22,
   "id": "c3286e12",
   "metadata": {},
   "outputs": [],
   "source": [
    "# In simple terms, this line of code is creating a new DataFrame,\n",
    "# 'income_age', which shows the number of individuals falling into\n",
    "# different combinations of income and age groups. It counts how\n",
    "# many individuals belong to each combination of income group and \n",
    "# age group, helping to understand the distribution of individuals\n",
    "# across different income and age categories. This can be useful\n",
    "# for analyzing relationships between income levels and age groups\n",
    "# within the dataset.\n",
    "\n",
    "income_age = pd.crosstab(merged_df['income_group'], merged_df['age_group'], dropna = False)"
   ]
  },
  {
   "cell_type": "code",
   "execution_count": 23,
   "id": "a3075a8f",
   "metadata": {},
   "outputs": [
    {
     "data": {
      "text/html": [
       "<div>\n",
       "<style scoped>\n",
       "    .dataframe tbody tr th:only-of-type {\n",
       "        vertical-align: middle;\n",
       "    }\n",
       "\n",
       "    .dataframe tbody tr th {\n",
       "        vertical-align: top;\n",
       "    }\n",
       "\n",
       "    .dataframe thead th {\n",
       "        text-align: right;\n",
       "    }\n",
       "</style>\n",
       "<table border=\"1\" class=\"dataframe\">\n",
       "  <thead>\n",
       "    <tr style=\"text-align: right;\">\n",
       "      <th>age_group</th>\n",
       "      <th>Young Adults</th>\n",
       "      <th>Middle age Adults</th>\n",
       "      <th>Senior Adults</th>\n",
       "    </tr>\n",
       "    <tr>\n",
       "      <th>income_group</th>\n",
       "      <th></th>\n",
       "      <th></th>\n",
       "      <th></th>\n",
       "    </tr>\n",
       "  </thead>\n",
       "  <tbody>\n",
       "    <tr>\n",
       "      <th>Low Income</th>\n",
       "      <td>4225332</td>\n",
       "      <td>2193243</td>\n",
       "      <td>1707208</td>\n",
       "    </tr>\n",
       "    <tr>\n",
       "      <th>Middle Income</th>\n",
       "      <td>4826266</td>\n",
       "      <td>5013744</td>\n",
       "      <td>6366399</td>\n",
       "    </tr>\n",
       "    <tr>\n",
       "      <th>High Income</th>\n",
       "      <td>103148</td>\n",
       "      <td>2968441</td>\n",
       "      <td>5029791</td>\n",
       "    </tr>\n",
       "  </tbody>\n",
       "</table>\n",
       "</div>"
      ],
      "text/plain": [
       "age_group      Young Adults  Middle age Adults  Senior Adults\n",
       "income_group                                                 \n",
       "Low Income          4225332            2193243        1707208\n",
       "Middle Income       4826266            5013744        6366399\n",
       "High Income          103148            2968441        5029791"
      ]
     },
     "execution_count": 23,
     "metadata": {},
     "output_type": "execute_result"
    }
   ],
   "source": [
    "income_age"
   ]
  },
  {
   "cell_type": "code",
   "execution_count": null,
   "id": "de773f13",
   "metadata": {},
   "outputs": [],
   "source": []
  },
  {
   "cell_type": "code",
   "execution_count": null,
   "id": "2e8d60bd",
   "metadata": {},
   "outputs": [],
   "source": []
  },
  {
   "cell_type": "code",
   "execution_count": 24,
   "id": "3fe866b5",
   "metadata": {},
   "outputs": [],
   "source": [
    "#  this line of code is creating\n",
    "# a new column, 'dependent_status', in the DataFrame\n",
    "# 'merged_df'. It examines the values in the 'number_of_dependants'\n",
    "# column and assigns a corresponding label to each row in the\n",
    "# 'dependent_status' column based on whether the individual has\n",
    "# no dependents or one or more dependents. This can help in \n",
    "# understanding the dependent status of individuals in the dataset.\n",
    "\n",
    "\n",
    "merged_df['dependent_status'] = merged_df['number_of_dependants'].apply(lambda x: 'No Dependents' if x == 0 else 'One or More Dependents')"
   ]
  },
  {
   "cell_type": "code",
   "execution_count": null,
   "id": "d611bf55",
   "metadata": {},
   "outputs": [],
   "source": []
  },
  {
   "cell_type": "code",
   "execution_count": 25,
   "id": "123b1f5d",
   "metadata": {},
   "outputs": [],
   "source": [
    "# In simpler terms, this line of code is updating \n",
    "# the 'customer_profile' column in the DataFrame \n",
    "# 'merged_df'. It checks whether the 'age_group' is\n",
    "# 'Young Adults' and the 'number_of_dependants' is\n",
    "# 0 for each row. If these conditions are met, it\n",
    "# assigns the value \"Single Adult\" to the 'customer_profile' \n",
    "# column. This helps in categorizing and understanding different \n",
    "# customer profiles based on age and dependency status.\n",
    "\n",
    "merged_df.loc[(merged_df['age_group'] == 'Young Adults') & (merged_df['number_of_dependants'] == 0), 'customer_profile'] = \"Single Adult\""
   ]
  },
  {
   "cell_type": "code",
   "execution_count": null,
   "id": "573ba4e3",
   "metadata": {},
   "outputs": [],
   "source": []
  },
  {
   "cell_type": "code",
   "execution_count": 26,
   "id": "33317b9e",
   "metadata": {},
   "outputs": [],
   "source": [
    "# this line of code is updating\n",
    "# the 'customer_profile' column in the DataFrame \n",
    "# 'merged_df'. It checks whether the 'age_group' \n",
    "# is 'Senior Adults' and the 'income_group' is either\n",
    "# 'Middle Income' or 'High Income' for each row. \n",
    "# If these conditions are met, it assigns the value\n",
    "# \"Senior Shopper\" to the 'customer_profile' column.\n",
    "# This helps in categorizing and understanding different\n",
    "# customer profiles based on age and income levels.\n",
    "\n",
    "\n",
    "merged_df.loc[(merged_df['age_group'] == 'Senior Adults') & (merged_df['income_group'].isin(['Middle Income', 'High Income'])), 'customer_profile'] = \"Senior Shopper\""
   ]
  },
  {
   "cell_type": "code",
   "execution_count": 27,
   "id": "76f726ea",
   "metadata": {},
   "outputs": [],
   "source": [
    "# this line of code is counting\n",
    "# the occurrences of each unique value in the \n",
    "# 'customer_profile' column of the DataFrame 'merged_df'.\n",
    "# It will create a new table, 'profile_counts',\n",
    "# showing how many customers fall into each category or profile.\n",
    "# This information helps in understanding the distribution of\n",
    "# different customer profiles within the dataset, which can be\n",
    "# useful for making business decisions and analyzing customer behavior.\n",
    "\n",
    "profile_counts = merged_df['customer_profile'].value_counts() "
   ]
  },
  {
   "cell_type": "markdown",
   "id": "b5228fb8",
   "metadata": {},
   "source": [
    "6. Create an appropriate visualization to show the distribution of profiles."
   ]
  },
  {
   "cell_type": "markdown",
   "id": "435efeb6",
   "metadata": {},
   "source": [
    "7.  Aggregate the max, mean, and min variables on a customer-profile level for usage frequency and expenditure"
   ]
  },
  {
   "cell_type": "code",
   "execution_count": null,
   "id": "e3ccedb1",
   "metadata": {},
   "outputs": [],
   "source": []
  },
  {
   "cell_type": "code",
   "execution_count": null,
   "id": "030b8c6b",
   "metadata": {},
   "outputs": [],
   "source": []
  },
  {
   "cell_type": "code",
   "execution_count": null,
   "id": "376af6eb",
   "metadata": {},
   "outputs": [],
   "source": []
  },
  {
   "cell_type": "code",
   "execution_count": 28,
   "id": "8f2a3beb",
   "metadata": {},
   "outputs": [
    {
     "data": {
      "image/png": "[encoded data removed]",
      "text/plain": [
       "<Figure size 640x480 with 1 Axes>"
      ]
     },
     "metadata": {},
     "output_type": "display_data"
    }
   ],
   "source": [
    "income_age.plot.bar(color=['lightgreen','green','darkgreen',])\n",
    "plt.xlabel(\"Region\", fontsize=10)\n",
    "plt.ylabel(\"Frequency\",fontsize=10)\n",
    "plt.title(\"Customers by Age and Income Groups\", fontsize=14)\n",
    "plt.legend(loc='center left', bbox_to_anchor=(1.0, 0.5))\n",
    "plt.tight_layout()"
   ]
  },
  {
   "cell_type": "code",
   "execution_count": 29,
   "id": "7e878ed6",
   "metadata": {},
   "outputs": [
    {
     "data": {
      "text/plain": [
       "<Figure size 640x480 with 0 Axes>"
      ]
     },
     "metadata": {},
     "output_type": "display_data"
    }
   ],
   "source": [
    "# This code is taking the plt.savefig()\n",
    "# function and is used to save the plotted figure as\n",
    "# an image file. Make sure you have the necessary\n",
    "# permissions to save the file in the specified directory. \n",
    "# This will save the figure as 'customer_profile.png'\n",
    "# in the specified visualization directory.\n",
    "\n",
    "\n",
    "plt.savefig(os.path.join(path, '04 Analysis', 'Visualizations', 'customer_profile.png'))"
   ]
  },
  {
   "cell_type": "code",
   "execution_count": null,
   "id": "2af6c705",
   "metadata": {},
   "outputs": [],
   "source": []
  },
  {
   "cell_type": "markdown",
   "id": "6d38d3e9",
   "metadata": {},
   "source": [
    "8.  Compare your customer profiles with regions and departments. Can you identify a link between them? Customers may demonstrate different behaviors across regions, which could make this information important."
   ]
  },
  {
   "cell_type": "code",
   "execution_count": 30,
   "id": "6eccf9c4",
   "metadata": {},
   "outputs": [
    {
     "data": {
      "text/plain": [
       "Text(0.5, 0, '# of Orders')"
      ]
     },
     "execution_count": 30,
     "metadata": {},
     "output_type": "execute_result"
    },
    {
     "data": {
      "image/png": "[encoded data removed]",
      "text/plain": [
       "<Figure size 640x480 with 1 Axes>"
      ]
     },
     "metadata": {},
     "output_type": "display_data"
    }
   ],
   "source": [
    "# Overall, this code snippet is creating a horizontal bar plot to visualize\n",
    "# the number of orders in each department. The departments are sorted based \n",
    "# on the number of orders, and the plot provides a visual representation of \n",
    "# the order distribution across different departments.\n",
    "# ***Note: department_id is not showing up on the Y axis\n",
    "\n",
    "bar_dept = merged_df['department_id'].value_counts().sort_values(ascending=True)\n",
    "bar_dept.plot.barh (title = 'Order by Department')\n",
    "plt.xlabel(\"# of Orders\", fontsize=12)  "
   ]
  },
  {
   "cell_type": "code",
   "execution_count": 31,
   "id": "99194882",
   "metadata": {},
   "outputs": [
    {
     "data": {
      "text/plain": [
       "<Figure size 640x480 with 0 Axes>"
      ]
     },
     "metadata": {},
     "output_type": "display_data"
    }
   ],
   "source": [
    "#  this line of code saves the current\n",
    "# figure that has been created using matplotlib as an image file.\n",
    "# It uses the specified directory path and file name to determine\n",
    "# where the image file will be saved. This is useful for preserving\n",
    "# data visualizations for later use or for sharing with others.\n",
    "\n",
    "plt.savefig(os.path.join(path, '04 Analysis', 'Visualizations', 'customer_profile.png'))"
   ]
  },
  {
   "cell_type": "code",
   "execution_count": null,
   "id": "7dc8fe7c",
   "metadata": {},
   "outputs": [],
   "source": []
  },
  {
   "cell_type": "code",
   "execution_count": 32,
   "id": "b0d8fa92",
   "metadata": {},
   "outputs": [],
   "source": [
    "# this code snippet is performing a grouped aggregation\n",
    "# on the DataFrame 'merged_df' based on the 'income_group' and\n",
    "# 'department_id' columns. It then counts the occurrences of \n",
    "# each unique combination of 'income_group' and 'department_id',\n",
    "# and the resulting data is organized and reshaped to provide a \n",
    "# clearer view of the relationship between income groups, \n",
    "# department IDs, and the number of orders.\n",
    "\n",
    "income_dept = merged_df.groupby(['income_group', 'department_id'])['order_id'].count().unstack()"
   ]
  },
  {
   "cell_type": "code",
   "execution_count": null,
   "id": "90dd16a7",
   "metadata": {},
   "outputs": [],
   "source": []
  },
  {
   "cell_type": "code",
   "execution_count": 33,
   "id": "e188988f",
   "metadata": {},
   "outputs": [
    {
     "data": {
      "image/png": "[encoded data removed]",
      "text/plain": [
       "<Figure size 640x480 with 1 Axes>"
      ]
     },
     "metadata": {},
     "output_type": "display_data"
    }
   ],
   "source": [
    "# this code snippet is creating \n",
    "# a bar plot to visualize the distribution of customers\n",
    "# across different income groups. It provides a clear \n",
    "# representation of the frequency of each income group within\n",
    "# the dataset, helping to understand the customer demographic \n",
    "# based on their income levels.\n",
    "\n",
    "\n",
    "bar_income_groups = merged_df['income_group'].value_counts().plot.bar(color=['skyblue'])\n",
    "plt.title(\"Customer Income Groups\",fontsize=12)\n",
    "plt.xlabel(\"Income Group\", fontsize=11)\n",
    "plt.ylabel(\"Frequency\",fontsize=11)\n",
    "plt.tight_layout()"
   ]
  },
  {
   "cell_type": "code",
   "execution_count": null,
   "id": "b8c7c824",
   "metadata": {},
   "outputs": [],
   "source": []
  },
  {
   "cell_type": "code",
   "execution_count": 34,
   "id": "daeb3006",
   "metadata": {},
   "outputs": [
    {
     "data": {
      "text/plain": [
       "Text(0, 0.5, 'Number of Customers')"
      ]
     },
     "execution_count": 34,
     "metadata": {},
     "output_type": "execute_result"
    },
    {
     "data": {
      "image/png": "[encoded data removed]",
      "text/plain": [
       "<Figure size 640x480 with 1 Axes>"
      ]
     },
     "metadata": {},
     "output_type": "display_data"
    }
   ],
   "source": [
    "# This code is creating \n",
    "# a bar plot to visualize the count of customers for \n",
    "# each loyalty flag. It helps in understanding the \n",
    "# distribution of customers based on their loyalty status,\n",
    "# providing insights into customer retention and engagement\n",
    "# with the business.\n",
    "\n",
    "loyalty_customers = merged_df.groupby('loyalty_flag')['user_id'].nunique()\n",
    "bar_loyalty_customers = loyalty_customers.plot.bar(title = \"Number of Customers by Loyalty\")\n",
    "plt.xlabel(\"Loyalty Flag\")\n",
    "plt.ylabel(\"Number of Customers\")"
   ]
  },
  {
   "cell_type": "code",
   "execution_count": 35,
   "id": "797b9aa1",
   "metadata": {},
   "outputs": [],
   "source": [
    "# In simpler terms, this line of code saves the bar plot generated\n",
    "# as an image file named 'customer_loyalty.png' in the specified path\n",
    "# '04 Analysis/Visualizations'. This allows you to retain the visualization \n",
    "# as a file that can be easily shared, viewed, or included in reports\n",
    "# or presentations outside of the Jupyter Notebook environment.\n",
    "\n",
    "bar_loyalty_customers.figure.savefig(os.path.join(path, '04 Analysis','Visualizations', 'customer_loyalty.png'))"
   ]
  },
  {
   "cell_type": "code",
   "execution_count": null,
   "id": "e6e2cda5",
   "metadata": {},
   "outputs": [],
   "source": []
  },
  {
   "cell_type": "markdown",
   "id": "204bbd8c",
   "metadata": {},
   "source": [
    "go double check whats below this might need to delete see if it's necessary for part 3 or not. this stuff below is from part 3 "
   ]
  },
  {
   "cell_type": "code",
   "execution_count": null,
   "id": "96843146",
   "metadata": {},
   "outputs": [],
   "source": []
  },
  {
   "cell_type": "code",
   "execution_count": 36,
   "id": "664edc6d",
   "metadata": {},
   "outputs": [],
   "source": [
    "#7 is below this the aggregate.  Should I move it?"
   ]
  },
  {
   "cell_type": "code",
   "execution_count": 37,
   "id": "f2b80cb9",
   "metadata": {},
   "outputs": [],
   "source": [
    "# Also note, this code is creating a new dataframe called \"aggregate_age_group\"\n",
    "# this line of code groups \n",
    "# the data in the DataFrame 'merged_df' by age\n",
    "# and then performs several aggregate functions\n",
    "# on the 'order_number' and 'prices' columns for\n",
    "# each age group. This provides insights into the \n",
    "# average, minimum, and maximum values for both the\n",
    "# number of orders and the prices associated with\n",
    "# each age group.\n",
    "\n",
    "aggregate_age_group = merged_df.groupby('age').agg({'order_number': ['mean', 'min', 'max'],  'prices': ['mean', 'min', 'max']})"
   ]
  },
  {
   "cell_type": "code",
   "execution_count": 38,
   "id": "78985e3b",
   "metadata": {},
   "outputs": [
    {
     "data": {
      "text/html": [
       "<div>\n",
       "<style scoped>\n",
       "    .dataframe tbody tr th:only-of-type {\n",
       "        vertical-align: middle;\n",
       "    }\n",
       "\n",
       "    .dataframe tbody tr th {\n",
       "        vertical-align: top;\n",
       "    }\n",
       "\n",
       "    .dataframe thead tr th {\n",
       "        text-align: left;\n",
       "    }\n",
       "</style>\n",
       "<table border=\"1\" class=\"dataframe\">\n",
       "  <thead>\n",
       "    <tr>\n",
       "      <th></th>\n",
       "      <th colspan=\"3\" halign=\"left\">order_number</th>\n",
       "      <th colspan=\"3\" halign=\"left\">prices</th>\n",
       "    </tr>\n",
       "    <tr>\n",
       "      <th></th>\n",
       "      <th>mean</th>\n",
       "      <th>min</th>\n",
       "      <th>max</th>\n",
       "      <th>mean</th>\n",
       "      <th>min</th>\n",
       "      <th>max</th>\n",
       "    </tr>\n",
       "  </thead>\n",
       "  <tbody>\n",
       "    <tr>\n",
       "      <th>count</th>\n",
       "      <td>64.000000</td>\n",
       "      <td>64.0</td>\n",
       "      <td>64.0</td>\n",
       "      <td>64.000000</td>\n",
       "      <td>64.0</td>\n",
       "      <td>64.000000</td>\n",
       "    </tr>\n",
       "    <tr>\n",
       "      <th>mean</th>\n",
       "      <td>17.137034</td>\n",
       "      <td>1.0</td>\n",
       "      <td>99.0</td>\n",
       "      <td>11.976667</td>\n",
       "      <td>1.0</td>\n",
       "      <td>97339.656250</td>\n",
       "    </tr>\n",
       "    <tr>\n",
       "      <th>std</th>\n",
       "      <td>0.419619</td>\n",
       "      <td>0.0</td>\n",
       "      <td>0.0</td>\n",
       "      <td>1.789275</td>\n",
       "      <td>0.0</td>\n",
       "      <td>14923.649398</td>\n",
       "    </tr>\n",
       "    <tr>\n",
       "      <th>min</th>\n",
       "      <td>16.253176</td>\n",
       "      <td>1.0</td>\n",
       "      <td>99.0</td>\n",
       "      <td>9.152452</td>\n",
       "      <td>1.0</td>\n",
       "      <td>14900.000000</td>\n",
       "    </tr>\n",
       "    <tr>\n",
       "      <th>25%</th>\n",
       "      <td>16.898094</td>\n",
       "      <td>1.0</td>\n",
       "      <td>99.0</td>\n",
       "      <td>10.753903</td>\n",
       "      <td>1.0</td>\n",
       "      <td>99999.000000</td>\n",
       "    </tr>\n",
       "    <tr>\n",
       "      <th>50%</th>\n",
       "      <td>17.093414</td>\n",
       "      <td>1.0</td>\n",
       "      <td>99.0</td>\n",
       "      <td>11.718393</td>\n",
       "      <td>1.0</td>\n",
       "      <td>99999.000000</td>\n",
       "    </tr>\n",
       "    <tr>\n",
       "      <th>75%</th>\n",
       "      <td>17.385621</td>\n",
       "      <td>1.0</td>\n",
       "      <td>99.0</td>\n",
       "      <td>12.782876</td>\n",
       "      <td>1.0</td>\n",
       "      <td>99999.000000</td>\n",
       "    </tr>\n",
       "    <tr>\n",
       "      <th>max</th>\n",
       "      <td>18.120131</td>\n",
       "      <td>1.0</td>\n",
       "      <td>99.0</td>\n",
       "      <td>18.138012</td>\n",
       "      <td>1.0</td>\n",
       "      <td>99999.000000</td>\n",
       "    </tr>\n",
       "  </tbody>\n",
       "</table>\n",
       "</div>"
      ],
      "text/plain": [
       "      order_number                 prices                    \n",
       "              mean   min   max       mean   min           max\n",
       "count    64.000000  64.0  64.0  64.000000  64.0     64.000000\n",
       "mean     17.137034   1.0  99.0  11.976667   1.0  97339.656250\n",
       "std       0.419619   0.0   0.0   1.789275   0.0  14923.649398\n",
       "min      16.253176   1.0  99.0   9.152452   1.0  14900.000000\n",
       "25%      16.898094   1.0  99.0  10.753903   1.0  99999.000000\n",
       "50%      17.093414   1.0  99.0  11.718393   1.0  99999.000000\n",
       "75%      17.385621   1.0  99.0  12.782876   1.0  99999.000000\n",
       "max      18.120131   1.0  99.0  18.138012   1.0  99999.000000"
      ]
     },
     "execution_count": 38,
     "metadata": {},
     "output_type": "execute_result"
    }
   ],
   "source": [
    "# this line of code calculates\n",
    "# and displays descriptive statistics for the data\n",
    "# in the DataFrame 'aggregate_age_group'. The\n",
    "# descriptive statistics summarize the distribution\n",
    "# of data within each age group, providing insights \n",
    "# into the central tendency (mean), variability \n",
    "# (standard deviation), and the spread of data points\n",
    "# (minimum and maximum values) for both the 'order_number' and 'prices' columns.\n",
    "\n",
    "\n",
    "aggregate_age_group.describe()"
   ]
  },
  {
   "cell_type": "code",
   "execution_count": null,
   "id": "0035425a",
   "metadata": {},
   "outputs": [],
   "source": []
  },
  {
   "cell_type": "code",
   "execution_count": null,
   "id": "020e8eb6",
   "metadata": {},
   "outputs": [],
   "source": []
  },
  {
   "cell_type": "code",
   "execution_count": null,
   "id": "130a09c7",
   "metadata": {},
   "outputs": [],
   "source": []
  }
 ],
 "metadata": {
  "kernelspec": {
   "display_name": "Python 3 (ipykernel)",
   "language": "python",
   "name": "python3"
  },
  "language_info": {
   "codemirror_mode": {
    "name": "ipython",
    "version": 3
   },
   "file_extension": ".py",
   "mimetype": "text/x-python",
   "name": "python",
   "nbconvert_exporter": "python",
   "pygments_lexer": "ipython3",
   "version": "3.11.4"
  }
 },
 "nbformat": 4,
 "nbformat_minor": 5
}
